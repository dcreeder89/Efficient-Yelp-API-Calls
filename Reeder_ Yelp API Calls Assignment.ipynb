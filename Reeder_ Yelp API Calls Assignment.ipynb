{
 "cells": [
  {
   "cell_type": "markdown",
   "id": "adae8a49",
   "metadata": {},
   "source": [
    "# Efficient Yelp API Calls \n",
    "- Christina Reeder\n",
    "- 2 Mar 2023"
   ]
  },
  {
   "cell_type": "code",
   "execution_count": 7,
   "id": "7092dd05",
   "metadata": {},
   "outputs": [
    {
     "name": "stdout",
     "output_type": "stream",
     "text": [
      "Collecting yelpapi\n",
      "  Downloading yelpapi-2.5.0-py3-none-any.whl (7.4 kB)\n",
      "Requirement already satisfied: requests in c:\\users\\james\\anaconda3\\envs\\dojo-env\\lib\\site-packages (from yelpapi) (2.28.1)\n",
      "Requirement already satisfied: urllib3<1.27,>=1.21.1 in c:\\users\\james\\anaconda3\\envs\\dojo-env\\lib\\site-packages (from requests->yelpapi) (1.26.13)\n",
      "Requirement already satisfied: charset-normalizer<3,>=2 in c:\\users\\james\\anaconda3\\envs\\dojo-env\\lib\\site-packages (from requests->yelpapi) (2.0.4)\n",
      "Requirement already satisfied: idna<4,>=2.5 in c:\\users\\james\\anaconda3\\envs\\dojo-env\\lib\\site-packages (from requests->yelpapi) (3.4)\n",
      "Requirement already satisfied: certifi>=2017.4.17 in c:\\users\\james\\anaconda3\\envs\\dojo-env\\lib\\site-packages (from requests->yelpapi) (2022.9.24)\n",
      "Installing collected packages: yelpapi\n",
      "Successfully installed yelpapi-2.5.0\n"
     ]
    }
   ],
   "source": [
    "!pip install yelpapi"
   ]
  },
  {
   "cell_type": "code",
   "execution_count": 13,
   "id": "79e3c122",
   "metadata": {},
   "outputs": [],
   "source": [
    "import json\n",
    "import pandas as pd\n",
    "from yelpapi import YelpAPI"
   ]
  },
  {
   "cell_type": "markdown",
   "id": "4d8fdecf",
   "metadata": {
    "heading_collapsed": true
   },
   "source": [
    "## Create and Save Yelp API Key"
   ]
  },
  {
   "cell_type": "code",
   "execution_count": 9,
   "id": "744c1f25",
   "metadata": {
    "hidden": true
   },
   "outputs": [
    {
     "data": {
      "text/plain": [
       "dict_keys(['client-id', 'api-key'])"
      ]
     },
     "execution_count": 9,
     "metadata": {},
     "output_type": "execute_result"
    }
   ],
   "source": [
    "with open('C:/Users/James/Documents/DataEnrichment/.secret/yelp_api.json') as f:\n",
    "    login = json.load(f)\n",
    "login.keys()"
   ]
  },
  {
   "cell_type": "code",
   "execution_count": 11,
   "id": "cc36190a",
   "metadata": {
    "hidden": true
   },
   "outputs": [
    {
     "data": {
      "text/plain": [
       "<yelpapi.yelpapi.YelpAPI at 0x20fe6be6f10>"
      ]
     },
     "execution_count": 11,
     "metadata": {},
     "output_type": "execute_result"
    }
   ],
   "source": [
    "yelp_api = YelpAPI(login['api-key'], timeout_s = 5.0)\n",
    "yelp_api"
   ]
  },
  {
   "cell_type": "markdown",
   "id": "14f530bc",
   "metadata": {
    "heading_collapsed": true
   },
   "source": [
    "## Using Yelp API"
   ]
  },
  {
   "cell_type": "code",
   "execution_count": 12,
   "id": "66762e4e",
   "metadata": {
    "hidden": true
   },
   "outputs": [
    {
     "data": {
      "text/plain": [
       "dict_keys(['businesses', 'total', 'region'])"
      ]
     },
     "execution_count": 12,
     "metadata": {},
     "output_type": "execute_result"
    }
   ],
   "source": [
    "# Save search results for pizza businesses in NY, NY\n",
    "search_results = yelp_api.search_query(location = 'NY, NY',\n",
    "                                      term = 'Pizza')\n",
    "search_results.keys()"
   ]
  },
  {
   "cell_type": "code",
   "execution_count": 16,
   "id": "0ac7eb52",
   "metadata": {
    "hidden": true
   },
   "outputs": [
    {
     "data": {
      "text/html": [
       "<div>\n",
       "<style scoped>\n",
       "    .dataframe tbody tr th:only-of-type {\n",
       "        vertical-align: middle;\n",
       "    }\n",
       "\n",
       "    .dataframe tbody tr th {\n",
       "        vertical-align: top;\n",
       "    }\n",
       "\n",
       "    .dataframe thead th {\n",
       "        text-align: right;\n",
       "    }\n",
       "</style>\n",
       "<table border=\"1\" class=\"dataframe\">\n",
       "  <thead>\n",
       "    <tr style=\"text-align: right;\">\n",
       "      <th></th>\n",
       "      <th>id</th>\n",
       "      <th>alias</th>\n",
       "      <th>name</th>\n",
       "      <th>image_url</th>\n",
       "      <th>is_closed</th>\n",
       "      <th>url</th>\n",
       "      <th>review_count</th>\n",
       "      <th>categories</th>\n",
       "      <th>rating</th>\n",
       "      <th>coordinates</th>\n",
       "      <th>transactions</th>\n",
       "      <th>price</th>\n",
       "      <th>location</th>\n",
       "      <th>phone</th>\n",
       "      <th>display_phone</th>\n",
       "      <th>distance</th>\n",
       "    </tr>\n",
       "  </thead>\n",
       "  <tbody>\n",
       "    <tr>\n",
       "      <th>0</th>\n",
       "      <td>zj8Lq1T8KIC5zwFief15jg</td>\n",
       "      <td>prince-street-pizza-new-york-2</td>\n",
       "      <td>Prince Street Pizza</td>\n",
       "      <td>https://s3-media2.fl.yelpcdn.com/bphoto/I4gm7i...</td>\n",
       "      <td>False</td>\n",
       "      <td>https://www.yelp.com/biz/prince-street-pizza-n...</td>\n",
       "      <td>4791</td>\n",
       "      <td>[{'alias': 'pizza', 'title': 'Pizza'}, {'alias...</td>\n",
       "      <td>4.5</td>\n",
       "      <td>{'latitude': 40.72308755605564, 'longitude': -...</td>\n",
       "      <td>[delivery, pickup]</td>\n",
       "      <td>$</td>\n",
       "      <td>{'address1': '27 Prince St', 'address2': None,...</td>\n",
       "      <td>+12129664100</td>\n",
       "      <td>(212) 966-4100</td>\n",
       "      <td>2209.311618</td>\n",
       "    </tr>\n",
       "    <tr>\n",
       "      <th>1</th>\n",
       "      <td>ysqgdbSrezXgVwER2kQWKA</td>\n",
       "      <td>julianas-brooklyn-3</td>\n",
       "      <td>Juliana's</td>\n",
       "      <td>https://s3-media2.fl.yelpcdn.com/bphoto/NVoLFl...</td>\n",
       "      <td>False</td>\n",
       "      <td>https://www.yelp.com/biz/julianas-brooklyn-3?a...</td>\n",
       "      <td>2608</td>\n",
       "      <td>[{'alias': 'pizza', 'title': 'Pizza'}]</td>\n",
       "      <td>4.5</td>\n",
       "      <td>{'latitude': 40.70274718768062, 'longitude': -...</td>\n",
       "      <td>[delivery]</td>\n",
       "      <td>$$</td>\n",
       "      <td>{'address1': '19 Old Fulton St', 'address2': '...</td>\n",
       "      <td>+17185966700</td>\n",
       "      <td>(718) 596-6700</td>\n",
       "      <td>1289.857286</td>\n",
       "    </tr>\n",
       "  </tbody>\n",
       "</table>\n",
       "</div>"
      ],
      "text/plain": [
       "                       id                           alias  \\\n",
       "0  zj8Lq1T8KIC5zwFief15jg  prince-street-pizza-new-york-2   \n",
       "1  ysqgdbSrezXgVwER2kQWKA             julianas-brooklyn-3   \n",
       "\n",
       "                  name                                          image_url  \\\n",
       "0  Prince Street Pizza  https://s3-media2.fl.yelpcdn.com/bphoto/I4gm7i...   \n",
       "1            Juliana's  https://s3-media2.fl.yelpcdn.com/bphoto/NVoLFl...   \n",
       "\n",
       "   is_closed                                                url  review_count  \\\n",
       "0      False  https://www.yelp.com/biz/prince-street-pizza-n...          4791   \n",
       "1      False  https://www.yelp.com/biz/julianas-brooklyn-3?a...          2608   \n",
       "\n",
       "                                          categories  rating  \\\n",
       "0  [{'alias': 'pizza', 'title': 'Pizza'}, {'alias...     4.5   \n",
       "1             [{'alias': 'pizza', 'title': 'Pizza'}]     4.5   \n",
       "\n",
       "                                         coordinates        transactions  \\\n",
       "0  {'latitude': 40.72308755605564, 'longitude': -...  [delivery, pickup]   \n",
       "1  {'latitude': 40.70274718768062, 'longitude': -...          [delivery]   \n",
       "\n",
       "  price                                           location         phone  \\\n",
       "0     $  {'address1': '27 Prince St', 'address2': None,...  +12129664100   \n",
       "1    $$  {'address1': '19 Old Fulton St', 'address2': '...  +17185966700   \n",
       "\n",
       "    display_phone     distance  \n",
       "0  (212) 966-4100  2209.311618  \n",
       "1  (718) 596-6700  1289.857286  "
      ]
     },
     "execution_count": 16,
     "metadata": {},
     "output_type": "execute_result"
    }
   ],
   "source": [
    "# Save buisenesses as a dataframe\n",
    "biz = pd.DataFrame(search_results['businesses'])\n",
    "biz.head(2)"
   ]
  },
  {
   "cell_type": "code",
   "execution_count": 15,
   "id": "e8aada0d",
   "metadata": {
    "hidden": true
   },
   "outputs": [
    {
     "data": {
      "text/plain": [
       "20"
      ]
     },
     "execution_count": 15,
     "metadata": {},
     "output_type": "execute_result"
    }
   ],
   "source": [
    "# how many businesses in our results due to pagination?\n",
    "len(search_results['businesses'])"
   ]
  },
  {
   "cell_type": "code",
   "execution_count": 17,
   "id": "956c4679",
   "metadata": {
    "hidden": true
   },
   "outputs": [],
   "source": [
    "# execute new search with the second page of results\n",
    "search_results = yelp_api.search_query(location='NY, NY',\n",
    "                                      term = 'Pizza',\n",
    "                                      offset = 20)"
   ]
  },
  {
   "cell_type": "code",
   "execution_count": 18,
   "id": "cc90c7f3",
   "metadata": {
    "hidden": true
   },
   "outputs": [
    {
     "data": {
      "text/html": [
       "<div>\n",
       "<style scoped>\n",
       "    .dataframe tbody tr th:only-of-type {\n",
       "        vertical-align: middle;\n",
       "    }\n",
       "\n",
       "    .dataframe tbody tr th {\n",
       "        vertical-align: top;\n",
       "    }\n",
       "\n",
       "    .dataframe thead th {\n",
       "        text-align: right;\n",
       "    }\n",
       "</style>\n",
       "<table border=\"1\" class=\"dataframe\">\n",
       "  <thead>\n",
       "    <tr style=\"text-align: right;\">\n",
       "      <th></th>\n",
       "      <th>id</th>\n",
       "      <th>alias</th>\n",
       "      <th>name</th>\n",
       "      <th>image_url</th>\n",
       "      <th>is_closed</th>\n",
       "      <th>url</th>\n",
       "      <th>review_count</th>\n",
       "      <th>categories</th>\n",
       "      <th>rating</th>\n",
       "      <th>coordinates</th>\n",
       "      <th>transactions</th>\n",
       "      <th>price</th>\n",
       "      <th>location</th>\n",
       "      <th>phone</th>\n",
       "      <th>display_phone</th>\n",
       "      <th>distance</th>\n",
       "    </tr>\n",
       "  </thead>\n",
       "  <tbody>\n",
       "    <tr>\n",
       "      <th>0</th>\n",
       "      <td>UB1mGugr1pvgUUP1eTNXrg</td>\n",
       "      <td>stone-bridge-pizza-and-salad-new-york</td>\n",
       "      <td>Stone Bridge Pizza &amp; Salad</td>\n",
       "      <td>https://s3-media1.fl.yelpcdn.com/bphoto/yfY3OA...</td>\n",
       "      <td>False</td>\n",
       "      <td>https://www.yelp.com/biz/stone-bridge-pizza-an...</td>\n",
       "      <td>320</td>\n",
       "      <td>[{'alias': 'pizza', 'title': 'Pizza'}, {'alias...</td>\n",
       "      <td>4.5</td>\n",
       "      <td>{'latitude': 40.75225, 'longitude': -73.98061}</td>\n",
       "      <td>[pickup, delivery]</td>\n",
       "      <td>$$</td>\n",
       "      <td>{'address1': '16 E 41st St', 'address2': None,...</td>\n",
       "      <td>+16467915690</td>\n",
       "      <td>(646) 791-5690</td>\n",
       "      <td>5039.358201</td>\n",
       "    </tr>\n",
       "    <tr>\n",
       "      <th>1</th>\n",
       "      <td>15k7iqFbhf4h8L01yggLqg</td>\n",
       "      <td>song-e-napule-new-york</td>\n",
       "      <td>Song E Napule</td>\n",
       "      <td>https://s3-media2.fl.yelpcdn.com/bphoto/y9G-nh...</td>\n",
       "      <td>False</td>\n",
       "      <td>https://www.yelp.com/biz/song-e-napule-new-yor...</td>\n",
       "      <td>673</td>\n",
       "      <td>[{'alias': 'pizza', 'title': 'Pizza'}, {'alias...</td>\n",
       "      <td>4.5</td>\n",
       "      <td>{'latitude': 40.72813, 'longitude': -74.00188}</td>\n",
       "      <td>[pickup, delivery]</td>\n",
       "      <td>$$</td>\n",
       "      <td>{'address1': '146 W Houston St', 'address2': N...</td>\n",
       "      <td>+12125331242</td>\n",
       "      <td>(212) 533-1242</td>\n",
       "      <td>3034.286450</td>\n",
       "    </tr>\n",
       "  </tbody>\n",
       "</table>\n",
       "</div>"
      ],
      "text/plain": [
       "                       id                                  alias  \\\n",
       "0  UB1mGugr1pvgUUP1eTNXrg  stone-bridge-pizza-and-salad-new-york   \n",
       "1  15k7iqFbhf4h8L01yggLqg                 song-e-napule-new-york   \n",
       "\n",
       "                         name  \\\n",
       "0  Stone Bridge Pizza & Salad   \n",
       "1               Song E Napule   \n",
       "\n",
       "                                           image_url  is_closed  \\\n",
       "0  https://s3-media1.fl.yelpcdn.com/bphoto/yfY3OA...      False   \n",
       "1  https://s3-media2.fl.yelpcdn.com/bphoto/y9G-nh...      False   \n",
       "\n",
       "                                                 url  review_count  \\\n",
       "0  https://www.yelp.com/biz/stone-bridge-pizza-an...           320   \n",
       "1  https://www.yelp.com/biz/song-e-napule-new-yor...           673   \n",
       "\n",
       "                                          categories  rating  \\\n",
       "0  [{'alias': 'pizza', 'title': 'Pizza'}, {'alias...     4.5   \n",
       "1  [{'alias': 'pizza', 'title': 'Pizza'}, {'alias...     4.5   \n",
       "\n",
       "                                      coordinates        transactions price  \\\n",
       "0  {'latitude': 40.75225, 'longitude': -73.98061}  [pickup, delivery]    $$   \n",
       "1  {'latitude': 40.72813, 'longitude': -74.00188}  [pickup, delivery]    $$   \n",
       "\n",
       "                                            location         phone  \\\n",
       "0  {'address1': '16 E 41st St', 'address2': None,...  +16467915690   \n",
       "1  {'address1': '146 W Houston St', 'address2': N...  +12125331242   \n",
       "\n",
       "    display_phone     distance  \n",
       "0  (646) 791-5690  5039.358201  \n",
       "1  (212) 533-1242  3034.286450  "
      ]
     },
     "execution_count": 18,
     "metadata": {},
     "output_type": "execute_result"
    }
   ],
   "source": [
    "# save second page as dataframe\n",
    "biz2 = pd.DataFrame(search_results['businesses'])\n",
    "biz2.head(2)"
   ]
  },
  {
   "cell_type": "code",
   "execution_count": 19,
   "id": "9d18ecd5",
   "metadata": {
    "hidden": true
   },
   "outputs": [
    {
     "data": {
      "text/html": [
       "<div>\n",
       "<style scoped>\n",
       "    .dataframe tbody tr th:only-of-type {\n",
       "        vertical-align: middle;\n",
       "    }\n",
       "\n",
       "    .dataframe tbody tr th {\n",
       "        vertical-align: top;\n",
       "    }\n",
       "\n",
       "    .dataframe thead th {\n",
       "        text-align: right;\n",
       "    }\n",
       "</style>\n",
       "<table border=\"1\" class=\"dataframe\">\n",
       "  <thead>\n",
       "    <tr style=\"text-align: right;\">\n",
       "      <th></th>\n",
       "      <th>id</th>\n",
       "      <th>alias</th>\n",
       "      <th>name</th>\n",
       "      <th>image_url</th>\n",
       "      <th>is_closed</th>\n",
       "      <th>url</th>\n",
       "      <th>review_count</th>\n",
       "      <th>categories</th>\n",
       "      <th>rating</th>\n",
       "      <th>coordinates</th>\n",
       "      <th>transactions</th>\n",
       "      <th>price</th>\n",
       "      <th>location</th>\n",
       "      <th>phone</th>\n",
       "      <th>display_phone</th>\n",
       "      <th>distance</th>\n",
       "    </tr>\n",
       "  </thead>\n",
       "  <tbody>\n",
       "    <tr>\n",
       "      <th>0</th>\n",
       "      <td>zj8Lq1T8KIC5zwFief15jg</td>\n",
       "      <td>prince-street-pizza-new-york-2</td>\n",
       "      <td>Prince Street Pizza</td>\n",
       "      <td>https://s3-media2.fl.yelpcdn.com/bphoto/I4gm7i...</td>\n",
       "      <td>False</td>\n",
       "      <td>https://www.yelp.com/biz/prince-street-pizza-n...</td>\n",
       "      <td>4791</td>\n",
       "      <td>[{'alias': 'pizza', 'title': 'Pizza'}, {'alias...</td>\n",
       "      <td>4.5</td>\n",
       "      <td>{'latitude': 40.72308755605564, 'longitude': -...</td>\n",
       "      <td>[delivery, pickup]</td>\n",
       "      <td>$</td>\n",
       "      <td>{'address1': '27 Prince St', 'address2': None,...</td>\n",
       "      <td>+12129664100</td>\n",
       "      <td>(212) 966-4100</td>\n",
       "      <td>2209.311618</td>\n",
       "    </tr>\n",
       "    <tr>\n",
       "      <th>1</th>\n",
       "      <td>ysqgdbSrezXgVwER2kQWKA</td>\n",
       "      <td>julianas-brooklyn-3</td>\n",
       "      <td>Juliana's</td>\n",
       "      <td>https://s3-media2.fl.yelpcdn.com/bphoto/NVoLFl...</td>\n",
       "      <td>False</td>\n",
       "      <td>https://www.yelp.com/biz/julianas-brooklyn-3?a...</td>\n",
       "      <td>2608</td>\n",
       "      <td>[{'alias': 'pizza', 'title': 'Pizza'}]</td>\n",
       "      <td>4.5</td>\n",
       "      <td>{'latitude': 40.70274718768062, 'longitude': -...</td>\n",
       "      <td>[delivery]</td>\n",
       "      <td>$$</td>\n",
       "      <td>{'address1': '19 Old Fulton St', 'address2': '...</td>\n",
       "      <td>+17185966700</td>\n",
       "      <td>(718) 596-6700</td>\n",
       "      <td>1289.857286</td>\n",
       "    </tr>\n",
       "    <tr>\n",
       "      <th>2</th>\n",
       "      <td>WG639VkTjmK5dzydd1BBJA</td>\n",
       "      <td>rubirosa-new-york-2</td>\n",
       "      <td>Rubirosa</td>\n",
       "      <td>https://s3-media3.fl.yelpcdn.com/bphoto/F65qqO...</td>\n",
       "      <td>False</td>\n",
       "      <td>https://www.yelp.com/biz/rubirosa-new-york-2?a...</td>\n",
       "      <td>2920</td>\n",
       "      <td>[{'alias': 'italian', 'title': 'Italian'}, {'a...</td>\n",
       "      <td>4.5</td>\n",
       "      <td>{'latitude': 40.722766, 'longitude': -73.996233}</td>\n",
       "      <td>[pickup]</td>\n",
       "      <td>$$</td>\n",
       "      <td>{'address1': '235 Mulberry St', 'address2': ''...</td>\n",
       "      <td>+12129650500</td>\n",
       "      <td>(212) 965-0500</td>\n",
       "      <td>2268.491950</td>\n",
       "    </tr>\n",
       "  </tbody>\n",
       "</table>\n",
       "</div>"
      ],
      "text/plain": [
       "                       id                           alias  \\\n",
       "0  zj8Lq1T8KIC5zwFief15jg  prince-street-pizza-new-york-2   \n",
       "1  ysqgdbSrezXgVwER2kQWKA             julianas-brooklyn-3   \n",
       "2  WG639VkTjmK5dzydd1BBJA             rubirosa-new-york-2   \n",
       "\n",
       "                  name                                          image_url  \\\n",
       "0  Prince Street Pizza  https://s3-media2.fl.yelpcdn.com/bphoto/I4gm7i...   \n",
       "1            Juliana's  https://s3-media2.fl.yelpcdn.com/bphoto/NVoLFl...   \n",
       "2             Rubirosa  https://s3-media3.fl.yelpcdn.com/bphoto/F65qqO...   \n",
       "\n",
       "   is_closed                                                url  review_count  \\\n",
       "0      False  https://www.yelp.com/biz/prince-street-pizza-n...          4791   \n",
       "1      False  https://www.yelp.com/biz/julianas-brooklyn-3?a...          2608   \n",
       "2      False  https://www.yelp.com/biz/rubirosa-new-york-2?a...          2920   \n",
       "\n",
       "                                          categories  rating  \\\n",
       "0  [{'alias': 'pizza', 'title': 'Pizza'}, {'alias...     4.5   \n",
       "1             [{'alias': 'pizza', 'title': 'Pizza'}]     4.5   \n",
       "2  [{'alias': 'italian', 'title': 'Italian'}, {'a...     4.5   \n",
       "\n",
       "                                         coordinates        transactions  \\\n",
       "0  {'latitude': 40.72308755605564, 'longitude': -...  [delivery, pickup]   \n",
       "1  {'latitude': 40.70274718768062, 'longitude': -...          [delivery]   \n",
       "2   {'latitude': 40.722766, 'longitude': -73.996233}            [pickup]   \n",
       "\n",
       "  price                                           location         phone  \\\n",
       "0     $  {'address1': '27 Prince St', 'address2': None,...  +12129664100   \n",
       "1    $$  {'address1': '19 Old Fulton St', 'address2': '...  +17185966700   \n",
       "2    $$  {'address1': '235 Mulberry St', 'address2': ''...  +12129650500   \n",
       "\n",
       "    display_phone     distance  \n",
       "0  (212) 966-4100  2209.311618  \n",
       "1  (718) 596-6700  1289.857286  \n",
       "2  (212) 965-0500  2268.491950  "
      ]
     },
     "metadata": {},
     "output_type": "display_data"
    },
    {
     "data": {
      "text/html": [
       "<div>\n",
       "<style scoped>\n",
       "    .dataframe tbody tr th:only-of-type {\n",
       "        vertical-align: middle;\n",
       "    }\n",
       "\n",
       "    .dataframe tbody tr th {\n",
       "        vertical-align: top;\n",
       "    }\n",
       "\n",
       "    .dataframe thead th {\n",
       "        text-align: right;\n",
       "    }\n",
       "</style>\n",
       "<table border=\"1\" class=\"dataframe\">\n",
       "  <thead>\n",
       "    <tr style=\"text-align: right;\">\n",
       "      <th></th>\n",
       "      <th>id</th>\n",
       "      <th>alias</th>\n",
       "      <th>name</th>\n",
       "      <th>image_url</th>\n",
       "      <th>is_closed</th>\n",
       "      <th>url</th>\n",
       "      <th>review_count</th>\n",
       "      <th>categories</th>\n",
       "      <th>rating</th>\n",
       "      <th>coordinates</th>\n",
       "      <th>transactions</th>\n",
       "      <th>price</th>\n",
       "      <th>location</th>\n",
       "      <th>phone</th>\n",
       "      <th>display_phone</th>\n",
       "      <th>distance</th>\n",
       "    </tr>\n",
       "  </thead>\n",
       "  <tbody>\n",
       "    <tr>\n",
       "      <th>37</th>\n",
       "      <td>6BC5LQI4Cg3KChkgigo9sA</td>\n",
       "      <td>lo-duca-pizza-brooklyn</td>\n",
       "      <td>Lo Duca Pizza</td>\n",
       "      <td>https://s3-media4.fl.yelpcdn.com/bphoto/zHuQza...</td>\n",
       "      <td>False</td>\n",
       "      <td>https://www.yelp.com/biz/lo-duca-pizza-brookly...</td>\n",
       "      <td>151</td>\n",
       "      <td>[{'alias': 'pizza', 'title': 'Pizza'}]</td>\n",
       "      <td>4.5</td>\n",
       "      <td>{'latitude': 40.6349400235262, 'longitude': -7...</td>\n",
       "      <td>[delivery]</td>\n",
       "      <td>$</td>\n",
       "      <td>{'address1': '14 Newkirk Plz', 'address2': '',...</td>\n",
       "      <td>+17188591501</td>\n",
       "      <td>(718) 859-1501</td>\n",
       "      <td>8131.724136</td>\n",
       "    </tr>\n",
       "    <tr>\n",
       "      <th>38</th>\n",
       "      <td>AHDlsNh8fODK9miC3zv3Zg</td>\n",
       "      <td>unregular-pizza-new-york-2</td>\n",
       "      <td>Unregular Pizza</td>\n",
       "      <td>https://s3-media4.fl.yelpcdn.com/bphoto/FiM-ke...</td>\n",
       "      <td>False</td>\n",
       "      <td>https://www.yelp.com/biz/unregular-pizza-new-y...</td>\n",
       "      <td>183</td>\n",
       "      <td>[{'alias': 'pizza', 'title': 'Pizza'}]</td>\n",
       "      <td>4.5</td>\n",
       "      <td>{'latitude': 40.73398, 'longitude': -73.98961}</td>\n",
       "      <td>[pickup, delivery]</td>\n",
       "      <td>$$</td>\n",
       "      <td>{'address1': '135 4th Ave', 'address2': None, ...</td>\n",
       "      <td>+16466094699</td>\n",
       "      <td>(646) 609-4699</td>\n",
       "      <td>3094.834457</td>\n",
       "    </tr>\n",
       "    <tr>\n",
       "      <th>39</th>\n",
       "      <td>aP1Nwq1-7j0Y7hr7oavY2A</td>\n",
       "      <td>upside-pizza-new-york-2</td>\n",
       "      <td>Upside Pizza</td>\n",
       "      <td>https://s3-media3.fl.yelpcdn.com/bphoto/RWcIDI...</td>\n",
       "      <td>False</td>\n",
       "      <td>https://www.yelp.com/biz/upside-pizza-new-york...</td>\n",
       "      <td>118</td>\n",
       "      <td>[{'alias': 'pizza', 'title': 'Pizza'}]</td>\n",
       "      <td>4.5</td>\n",
       "      <td>{'latitude': 40.722115, 'longitude': -73.996407}</td>\n",
       "      <td>[pickup, delivery]</td>\n",
       "      <td>NaN</td>\n",
       "      <td>{'address1': '51 Spring St', 'address2': '', '...</td>\n",
       "      <td></td>\n",
       "      <td></td>\n",
       "      <td>2221.489967</td>\n",
       "    </tr>\n",
       "  </tbody>\n",
       "</table>\n",
       "</div>"
      ],
      "text/plain": [
       "                        id                       alias             name  \\\n",
       "37  6BC5LQI4Cg3KChkgigo9sA      lo-duca-pizza-brooklyn    Lo Duca Pizza   \n",
       "38  AHDlsNh8fODK9miC3zv3Zg  unregular-pizza-new-york-2  Unregular Pizza   \n",
       "39  aP1Nwq1-7j0Y7hr7oavY2A     upside-pizza-new-york-2     Upside Pizza   \n",
       "\n",
       "                                            image_url  is_closed  \\\n",
       "37  https://s3-media4.fl.yelpcdn.com/bphoto/zHuQza...      False   \n",
       "38  https://s3-media4.fl.yelpcdn.com/bphoto/FiM-ke...      False   \n",
       "39  https://s3-media3.fl.yelpcdn.com/bphoto/RWcIDI...      False   \n",
       "\n",
       "                                                  url  review_count  \\\n",
       "37  https://www.yelp.com/biz/lo-duca-pizza-brookly...           151   \n",
       "38  https://www.yelp.com/biz/unregular-pizza-new-y...           183   \n",
       "39  https://www.yelp.com/biz/upside-pizza-new-york...           118   \n",
       "\n",
       "                                categories  rating  \\\n",
       "37  [{'alias': 'pizza', 'title': 'Pizza'}]     4.5   \n",
       "38  [{'alias': 'pizza', 'title': 'Pizza'}]     4.5   \n",
       "39  [{'alias': 'pizza', 'title': 'Pizza'}]     4.5   \n",
       "\n",
       "                                          coordinates        transactions  \\\n",
       "37  {'latitude': 40.6349400235262, 'longitude': -7...          [delivery]   \n",
       "38     {'latitude': 40.73398, 'longitude': -73.98961}  [pickup, delivery]   \n",
       "39   {'latitude': 40.722115, 'longitude': -73.996407}  [pickup, delivery]   \n",
       "\n",
       "   price                                           location         phone  \\\n",
       "37     $  {'address1': '14 Newkirk Plz', 'address2': '',...  +17188591501   \n",
       "38    $$  {'address1': '135 4th Ave', 'address2': None, ...  +16466094699   \n",
       "39   NaN  {'address1': '51 Spring St', 'address2': '', '...                 \n",
       "\n",
       "     display_phone     distance  \n",
       "37  (718) 859-1501  8131.724136  \n",
       "38  (646) 609-4699  3094.834457  \n",
       "39                  2221.489967  "
      ]
     },
     "metadata": {},
     "output_type": "display_data"
    }
   ],
   "source": [
    "# combine results into one dataframe\n",
    "businesses = pd.concat([biz, biz2],\n",
    "                      ignore_index=True)\n",
    "display(businesses.head(3), businesses.tail(3))"
   ]
  },
  {
   "cell_type": "code",
   "execution_count": 21,
   "id": "e14d74ae",
   "metadata": {
    "hidden": true
   },
   "outputs": [],
   "source": [
    "# save first two pages of businesses as a records-oriented JSON file\n",
    "businesses.to_json(orient='records');"
   ]
  },
  {
   "cell_type": "markdown",
   "id": "d1ea8b4c",
   "metadata": {},
   "source": [
    "## Efficient Yelp API Calls"
   ]
  },
  {
   "cell_type": "code",
   "execution_count": null,
   "id": "bdd9b797",
   "metadata": {},
   "outputs": [],
   "source": []
  }
 ],
 "metadata": {
  "kernelspec": {
   "display_name": "Python (dojo-env)",
   "language": "python",
   "name": "dojo-env"
  },
  "language_info": {
   "codemirror_mode": {
    "name": "ipython",
    "version": 3
   },
   "file_extension": ".py",
   "mimetype": "text/x-python",
   "name": "python",
   "nbconvert_exporter": "python",
   "pygments_lexer": "ipython3",
   "version": "3.9.15"
  },
  "toc": {
   "base_numbering": 1,
   "nav_menu": {},
   "number_sections": true,
   "sideBar": true,
   "skip_h1_title": false,
   "title_cell": "Table of Contents",
   "title_sidebar": "Contents",
   "toc_cell": false,
   "toc_position": {},
   "toc_section_display": true,
   "toc_window_display": false
  }
 },
 "nbformat": 4,
 "nbformat_minor": 5
}
